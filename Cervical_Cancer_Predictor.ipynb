{
  "nbformat": 4,
  "nbformat_minor": 0,
  "metadata": {
    "colab": {
      "name": "Cervical Cancer Predictor",
      "provenance": [],
      "collapsed_sections": []
    },
    "kernelspec": {
      "name": "python3",
      "display_name": "Python 3"
    }
  },
  "cells": [
    {
      "cell_type": "code",
      "metadata": {
        "id": "qipmz6IzGukb"
      },
      "source": [
        "import pandas as pd"
      ],
      "execution_count": null,
      "outputs": []
    },
    {
      "cell_type": "code",
      "metadata": {
        "id": "kokMSUrtGwiy"
      },
      "source": [
        "data = pd.read_csv(\"Cervical_Cancer_Cleaned.csv\")"
      ],
      "execution_count": null,
      "outputs": []
    },
    {
      "cell_type": "code",
      "metadata": {
        "colab": {
          "base_uri": "https://localhost:8080/",
          "height": 266
        },
        "id": "tM_i9ThEG_I6",
        "outputId": "7b5b04b5-21d5-4264-fcdc-54aeb45f702b"
      },
      "source": [
        "data.head()"
      ],
      "execution_count": null,
      "outputs": [
        {
          "output_type": "execute_result",
          "data": {
            "text/html": [
              "<div>\n",
              "<style scoped>\n",
              "    .dataframe tbody tr th:only-of-type {\n",
              "        vertical-align: middle;\n",
              "    }\n",
              "\n",
              "    .dataframe tbody tr th {\n",
              "        vertical-align: top;\n",
              "    }\n",
              "\n",
              "    .dataframe thead th {\n",
              "        text-align: right;\n",
              "    }\n",
              "</style>\n",
              "<table border=\"1\" class=\"dataframe\">\n",
              "  <thead>\n",
              "    <tr style=\"text-align: right;\">\n",
              "      <th></th>\n",
              "      <th>Age</th>\n",
              "      <th>Number of sexual partners</th>\n",
              "      <th>First sexual intercourse</th>\n",
              "      <th>Num of pregnancies</th>\n",
              "      <th>Smokes</th>\n",
              "      <th>Smokes (years)</th>\n",
              "      <th>Smokes (packs/year)</th>\n",
              "      <th>Hormonal Contraceptives</th>\n",
              "      <th>Hormonal Contraceptives (years)</th>\n",
              "      <th>IUD</th>\n",
              "      <th>IUD (years)</th>\n",
              "      <th>STDs</th>\n",
              "      <th>STDs (number)</th>\n",
              "      <th>STDs:condylomatosis</th>\n",
              "      <th>STDs:vaginal condylomatosis</th>\n",
              "      <th>STDs:vulvo-perineal condylomatosis</th>\n",
              "      <th>STDs:syphilis</th>\n",
              "      <th>STDs:pelvic inflammatory disease</th>\n",
              "      <th>STDs:genital herpes</th>\n",
              "      <th>STDs:molluscum contagiosum</th>\n",
              "      <th>STDs:HIV</th>\n",
              "      <th>STDs:Hepatitis B</th>\n",
              "      <th>STDs:HPV</th>\n",
              "      <th>STDs: Number of diagnosis</th>\n",
              "      <th>Dx:Cancer</th>\n",
              "      <th>Dx:CIN</th>\n",
              "      <th>Dx:HPV</th>\n",
              "      <th>Dx</th>\n",
              "      <th>Hinselmann</th>\n",
              "      <th>Schiller</th>\n",
              "      <th>Citology</th>\n",
              "      <th>Biopsy</th>\n",
              "    </tr>\n",
              "  </thead>\n",
              "  <tbody>\n",
              "    <tr>\n",
              "      <th>0</th>\n",
              "      <td>18.0</td>\n",
              "      <td>4.0</td>\n",
              "      <td>15.0</td>\n",
              "      <td>1.0</td>\n",
              "      <td>False</td>\n",
              "      <td>0.0</td>\n",
              "      <td>0.0</td>\n",
              "      <td>False</td>\n",
              "      <td>0.0</td>\n",
              "      <td>False</td>\n",
              "      <td>0.0</td>\n",
              "      <td>False</td>\n",
              "      <td>0.0</td>\n",
              "      <td>False</td>\n",
              "      <td>False</td>\n",
              "      <td>False</td>\n",
              "      <td>False</td>\n",
              "      <td>False</td>\n",
              "      <td>False</td>\n",
              "      <td>False</td>\n",
              "      <td>False</td>\n",
              "      <td>False</td>\n",
              "      <td>False</td>\n",
              "      <td>0.0</td>\n",
              "      <td>False</td>\n",
              "      <td>False</td>\n",
              "      <td>False</td>\n",
              "      <td>False</td>\n",
              "      <td>False</td>\n",
              "      <td>False</td>\n",
              "      <td>False</td>\n",
              "      <td>False</td>\n",
              "    </tr>\n",
              "    <tr>\n",
              "      <th>1</th>\n",
              "      <td>15.0</td>\n",
              "      <td>1.0</td>\n",
              "      <td>14.0</td>\n",
              "      <td>1.0</td>\n",
              "      <td>False</td>\n",
              "      <td>0.0</td>\n",
              "      <td>0.0</td>\n",
              "      <td>False</td>\n",
              "      <td>0.0</td>\n",
              "      <td>False</td>\n",
              "      <td>0.0</td>\n",
              "      <td>False</td>\n",
              "      <td>0.0</td>\n",
              "      <td>False</td>\n",
              "      <td>False</td>\n",
              "      <td>False</td>\n",
              "      <td>False</td>\n",
              "      <td>False</td>\n",
              "      <td>False</td>\n",
              "      <td>False</td>\n",
              "      <td>False</td>\n",
              "      <td>False</td>\n",
              "      <td>False</td>\n",
              "      <td>0.0</td>\n",
              "      <td>False</td>\n",
              "      <td>False</td>\n",
              "      <td>False</td>\n",
              "      <td>False</td>\n",
              "      <td>False</td>\n",
              "      <td>False</td>\n",
              "      <td>False</td>\n",
              "      <td>False</td>\n",
              "    </tr>\n",
              "    <tr>\n",
              "      <th>2</th>\n",
              "      <td>34.0</td>\n",
              "      <td>1.0</td>\n",
              "      <td>25.0</td>\n",
              "      <td>1.0</td>\n",
              "      <td>False</td>\n",
              "      <td>0.0</td>\n",
              "      <td>0.0</td>\n",
              "      <td>False</td>\n",
              "      <td>0.0</td>\n",
              "      <td>False</td>\n",
              "      <td>0.0</td>\n",
              "      <td>False</td>\n",
              "      <td>0.0</td>\n",
              "      <td>False</td>\n",
              "      <td>False</td>\n",
              "      <td>False</td>\n",
              "      <td>False</td>\n",
              "      <td>False</td>\n",
              "      <td>False</td>\n",
              "      <td>False</td>\n",
              "      <td>False</td>\n",
              "      <td>False</td>\n",
              "      <td>False</td>\n",
              "      <td>0.0</td>\n",
              "      <td>False</td>\n",
              "      <td>False</td>\n",
              "      <td>False</td>\n",
              "      <td>False</td>\n",
              "      <td>False</td>\n",
              "      <td>False</td>\n",
              "      <td>False</td>\n",
              "      <td>False</td>\n",
              "    </tr>\n",
              "    <tr>\n",
              "      <th>3</th>\n",
              "      <td>52.0</td>\n",
              "      <td>5.0</td>\n",
              "      <td>16.0</td>\n",
              "      <td>4.0</td>\n",
              "      <td>True</td>\n",
              "      <td>37.0</td>\n",
              "      <td>37.0</td>\n",
              "      <td>True</td>\n",
              "      <td>3.0</td>\n",
              "      <td>False</td>\n",
              "      <td>0.0</td>\n",
              "      <td>False</td>\n",
              "      <td>0.0</td>\n",
              "      <td>False</td>\n",
              "      <td>False</td>\n",
              "      <td>False</td>\n",
              "      <td>False</td>\n",
              "      <td>False</td>\n",
              "      <td>False</td>\n",
              "      <td>False</td>\n",
              "      <td>False</td>\n",
              "      <td>False</td>\n",
              "      <td>False</td>\n",
              "      <td>0.0</td>\n",
              "      <td>True</td>\n",
              "      <td>False</td>\n",
              "      <td>True</td>\n",
              "      <td>False</td>\n",
              "      <td>False</td>\n",
              "      <td>False</td>\n",
              "      <td>False</td>\n",
              "      <td>False</td>\n",
              "    </tr>\n",
              "    <tr>\n",
              "      <th>4</th>\n",
              "      <td>46.0</td>\n",
              "      <td>3.0</td>\n",
              "      <td>21.0</td>\n",
              "      <td>4.0</td>\n",
              "      <td>False</td>\n",
              "      <td>0.0</td>\n",
              "      <td>0.0</td>\n",
              "      <td>True</td>\n",
              "      <td>15.0</td>\n",
              "      <td>False</td>\n",
              "      <td>0.0</td>\n",
              "      <td>False</td>\n",
              "      <td>0.0</td>\n",
              "      <td>False</td>\n",
              "      <td>False</td>\n",
              "      <td>False</td>\n",
              "      <td>False</td>\n",
              "      <td>False</td>\n",
              "      <td>False</td>\n",
              "      <td>False</td>\n",
              "      <td>False</td>\n",
              "      <td>False</td>\n",
              "      <td>False</td>\n",
              "      <td>0.0</td>\n",
              "      <td>False</td>\n",
              "      <td>False</td>\n",
              "      <td>False</td>\n",
              "      <td>False</td>\n",
              "      <td>False</td>\n",
              "      <td>False</td>\n",
              "      <td>False</td>\n",
              "      <td>False</td>\n",
              "    </tr>\n",
              "  </tbody>\n",
              "</table>\n",
              "</div>"
            ],
            "text/plain": [
              "    Age  Number of sexual partners  ...  Citology  Biopsy\n",
              "0  18.0                        4.0  ...     False   False\n",
              "1  15.0                        1.0  ...     False   False\n",
              "2  34.0                        1.0  ...     False   False\n",
              "3  52.0                        5.0  ...     False   False\n",
              "4  46.0                        3.0  ...     False   False\n",
              "\n",
              "[5 rows x 32 columns]"
            ]
          },
          "metadata": {
            "tags": []
          },
          "execution_count": 3
        }
      ]
    },
    {
      "cell_type": "code",
      "metadata": {
        "colab": {
          "base_uri": "https://localhost:8080/"
        },
        "id": "W1Z3d1M2HAoT",
        "outputId": "5e075b6d-f92f-44f9-f429-a2854308b7a2"
      },
      "source": [
        "data.shape"
      ],
      "execution_count": null,
      "outputs": [
        {
          "output_type": "execute_result",
          "data": {
            "text/plain": [
              "(858, 32)"
            ]
          },
          "metadata": {
            "tags": []
          },
          "execution_count": 4
        }
      ]
    },
    {
      "cell_type": "markdown",
      "metadata": {
        "id": "aQe7-q8-I2NW"
      },
      "source": [
        "# Target variable is Biopsy"
      ]
    },
    {
      "cell_type": "code",
      "metadata": {
        "id": "AvfX_upqHHbZ"
      },
      "source": [
        "data.drop(['Hinselmann','Schiller','Citology'],axis=1,inplace=True)"
      ],
      "execution_count": null,
      "outputs": []
    },
    {
      "cell_type": "code",
      "metadata": {
        "id": "MMY1bcbRJZIB",
        "colab": {
          "base_uri": "https://localhost:8080/",
          "height": 474
        },
        "outputId": "331b8815-4f93-4cf3-c5fe-c4cb7cce4eca"
      },
      "source": [
        "data"
      ],
      "execution_count": null,
      "outputs": [
        {
          "output_type": "execute_result",
          "data": {
            "text/html": [
              "<div>\n",
              "<style scoped>\n",
              "    .dataframe tbody tr th:only-of-type {\n",
              "        vertical-align: middle;\n",
              "    }\n",
              "\n",
              "    .dataframe tbody tr th {\n",
              "        vertical-align: top;\n",
              "    }\n",
              "\n",
              "    .dataframe thead th {\n",
              "        text-align: right;\n",
              "    }\n",
              "</style>\n",
              "<table border=\"1\" class=\"dataframe\">\n",
              "  <thead>\n",
              "    <tr style=\"text-align: right;\">\n",
              "      <th></th>\n",
              "      <th>Age</th>\n",
              "      <th>Number of sexual partners</th>\n",
              "      <th>First sexual intercourse</th>\n",
              "      <th>Num of pregnancies</th>\n",
              "      <th>Smokes</th>\n",
              "      <th>Smokes (years)</th>\n",
              "      <th>Smokes (packs/year)</th>\n",
              "      <th>Hormonal Contraceptives</th>\n",
              "      <th>Hormonal Contraceptives (years)</th>\n",
              "      <th>IUD</th>\n",
              "      <th>IUD (years)</th>\n",
              "      <th>STDs</th>\n",
              "      <th>STDs (number)</th>\n",
              "      <th>STDs:condylomatosis</th>\n",
              "      <th>STDs:vaginal condylomatosis</th>\n",
              "      <th>STDs:vulvo-perineal condylomatosis</th>\n",
              "      <th>STDs:syphilis</th>\n",
              "      <th>STDs:pelvic inflammatory disease</th>\n",
              "      <th>STDs:genital herpes</th>\n",
              "      <th>STDs:molluscum contagiosum</th>\n",
              "      <th>STDs:HIV</th>\n",
              "      <th>STDs:Hepatitis B</th>\n",
              "      <th>STDs:HPV</th>\n",
              "      <th>STDs: Number of diagnosis</th>\n",
              "      <th>Dx:Cancer</th>\n",
              "      <th>Dx:CIN</th>\n",
              "      <th>Dx:HPV</th>\n",
              "      <th>Dx</th>\n",
              "      <th>Biopsy</th>\n",
              "    </tr>\n",
              "  </thead>\n",
              "  <tbody>\n",
              "    <tr>\n",
              "      <th>0</th>\n",
              "      <td>18.0</td>\n",
              "      <td>4.0</td>\n",
              "      <td>15.0</td>\n",
              "      <td>1.0</td>\n",
              "      <td>False</td>\n",
              "      <td>0.0</td>\n",
              "      <td>0.0</td>\n",
              "      <td>False</td>\n",
              "      <td>0.00</td>\n",
              "      <td>False</td>\n",
              "      <td>0.0</td>\n",
              "      <td>False</td>\n",
              "      <td>0.0</td>\n",
              "      <td>False</td>\n",
              "      <td>False</td>\n",
              "      <td>False</td>\n",
              "      <td>False</td>\n",
              "      <td>False</td>\n",
              "      <td>False</td>\n",
              "      <td>False</td>\n",
              "      <td>False</td>\n",
              "      <td>False</td>\n",
              "      <td>False</td>\n",
              "      <td>0.0</td>\n",
              "      <td>False</td>\n",
              "      <td>False</td>\n",
              "      <td>False</td>\n",
              "      <td>False</td>\n",
              "      <td>False</td>\n",
              "    </tr>\n",
              "    <tr>\n",
              "      <th>1</th>\n",
              "      <td>15.0</td>\n",
              "      <td>1.0</td>\n",
              "      <td>14.0</td>\n",
              "      <td>1.0</td>\n",
              "      <td>False</td>\n",
              "      <td>0.0</td>\n",
              "      <td>0.0</td>\n",
              "      <td>False</td>\n",
              "      <td>0.00</td>\n",
              "      <td>False</td>\n",
              "      <td>0.0</td>\n",
              "      <td>False</td>\n",
              "      <td>0.0</td>\n",
              "      <td>False</td>\n",
              "      <td>False</td>\n",
              "      <td>False</td>\n",
              "      <td>False</td>\n",
              "      <td>False</td>\n",
              "      <td>False</td>\n",
              "      <td>False</td>\n",
              "      <td>False</td>\n",
              "      <td>False</td>\n",
              "      <td>False</td>\n",
              "      <td>0.0</td>\n",
              "      <td>False</td>\n",
              "      <td>False</td>\n",
              "      <td>False</td>\n",
              "      <td>False</td>\n",
              "      <td>False</td>\n",
              "    </tr>\n",
              "    <tr>\n",
              "      <th>2</th>\n",
              "      <td>34.0</td>\n",
              "      <td>1.0</td>\n",
              "      <td>25.0</td>\n",
              "      <td>1.0</td>\n",
              "      <td>False</td>\n",
              "      <td>0.0</td>\n",
              "      <td>0.0</td>\n",
              "      <td>False</td>\n",
              "      <td>0.00</td>\n",
              "      <td>False</td>\n",
              "      <td>0.0</td>\n",
              "      <td>False</td>\n",
              "      <td>0.0</td>\n",
              "      <td>False</td>\n",
              "      <td>False</td>\n",
              "      <td>False</td>\n",
              "      <td>False</td>\n",
              "      <td>False</td>\n",
              "      <td>False</td>\n",
              "      <td>False</td>\n",
              "      <td>False</td>\n",
              "      <td>False</td>\n",
              "      <td>False</td>\n",
              "      <td>0.0</td>\n",
              "      <td>False</td>\n",
              "      <td>False</td>\n",
              "      <td>False</td>\n",
              "      <td>False</td>\n",
              "      <td>False</td>\n",
              "    </tr>\n",
              "    <tr>\n",
              "      <th>3</th>\n",
              "      <td>52.0</td>\n",
              "      <td>5.0</td>\n",
              "      <td>16.0</td>\n",
              "      <td>4.0</td>\n",
              "      <td>True</td>\n",
              "      <td>37.0</td>\n",
              "      <td>37.0</td>\n",
              "      <td>True</td>\n",
              "      <td>3.00</td>\n",
              "      <td>False</td>\n",
              "      <td>0.0</td>\n",
              "      <td>False</td>\n",
              "      <td>0.0</td>\n",
              "      <td>False</td>\n",
              "      <td>False</td>\n",
              "      <td>False</td>\n",
              "      <td>False</td>\n",
              "      <td>False</td>\n",
              "      <td>False</td>\n",
              "      <td>False</td>\n",
              "      <td>False</td>\n",
              "      <td>False</td>\n",
              "      <td>False</td>\n",
              "      <td>0.0</td>\n",
              "      <td>True</td>\n",
              "      <td>False</td>\n",
              "      <td>True</td>\n",
              "      <td>False</td>\n",
              "      <td>False</td>\n",
              "    </tr>\n",
              "    <tr>\n",
              "      <th>4</th>\n",
              "      <td>46.0</td>\n",
              "      <td>3.0</td>\n",
              "      <td>21.0</td>\n",
              "      <td>4.0</td>\n",
              "      <td>False</td>\n",
              "      <td>0.0</td>\n",
              "      <td>0.0</td>\n",
              "      <td>True</td>\n",
              "      <td>15.00</td>\n",
              "      <td>False</td>\n",
              "      <td>0.0</td>\n",
              "      <td>False</td>\n",
              "      <td>0.0</td>\n",
              "      <td>False</td>\n",
              "      <td>False</td>\n",
              "      <td>False</td>\n",
              "      <td>False</td>\n",
              "      <td>False</td>\n",
              "      <td>False</td>\n",
              "      <td>False</td>\n",
              "      <td>False</td>\n",
              "      <td>False</td>\n",
              "      <td>False</td>\n",
              "      <td>0.0</td>\n",
              "      <td>False</td>\n",
              "      <td>False</td>\n",
              "      <td>False</td>\n",
              "      <td>False</td>\n",
              "      <td>False</td>\n",
              "    </tr>\n",
              "    <tr>\n",
              "      <th>...</th>\n",
              "      <td>...</td>\n",
              "      <td>...</td>\n",
              "      <td>...</td>\n",
              "      <td>...</td>\n",
              "      <td>...</td>\n",
              "      <td>...</td>\n",
              "      <td>...</td>\n",
              "      <td>...</td>\n",
              "      <td>...</td>\n",
              "      <td>...</td>\n",
              "      <td>...</td>\n",
              "      <td>...</td>\n",
              "      <td>...</td>\n",
              "      <td>...</td>\n",
              "      <td>...</td>\n",
              "      <td>...</td>\n",
              "      <td>...</td>\n",
              "      <td>...</td>\n",
              "      <td>...</td>\n",
              "      <td>...</td>\n",
              "      <td>...</td>\n",
              "      <td>...</td>\n",
              "      <td>...</td>\n",
              "      <td>...</td>\n",
              "      <td>...</td>\n",
              "      <td>...</td>\n",
              "      <td>...</td>\n",
              "      <td>...</td>\n",
              "      <td>...</td>\n",
              "    </tr>\n",
              "    <tr>\n",
              "      <th>853</th>\n",
              "      <td>34.0</td>\n",
              "      <td>3.0</td>\n",
              "      <td>18.0</td>\n",
              "      <td>0.0</td>\n",
              "      <td>False</td>\n",
              "      <td>0.0</td>\n",
              "      <td>0.0</td>\n",
              "      <td>False</td>\n",
              "      <td>0.00</td>\n",
              "      <td>False</td>\n",
              "      <td>0.0</td>\n",
              "      <td>False</td>\n",
              "      <td>0.0</td>\n",
              "      <td>False</td>\n",
              "      <td>False</td>\n",
              "      <td>False</td>\n",
              "      <td>False</td>\n",
              "      <td>False</td>\n",
              "      <td>False</td>\n",
              "      <td>False</td>\n",
              "      <td>False</td>\n",
              "      <td>False</td>\n",
              "      <td>False</td>\n",
              "      <td>0.0</td>\n",
              "      <td>False</td>\n",
              "      <td>False</td>\n",
              "      <td>False</td>\n",
              "      <td>False</td>\n",
              "      <td>False</td>\n",
              "    </tr>\n",
              "    <tr>\n",
              "      <th>854</th>\n",
              "      <td>32.0</td>\n",
              "      <td>2.0</td>\n",
              "      <td>19.0</td>\n",
              "      <td>1.0</td>\n",
              "      <td>False</td>\n",
              "      <td>0.0</td>\n",
              "      <td>0.0</td>\n",
              "      <td>True</td>\n",
              "      <td>8.00</td>\n",
              "      <td>False</td>\n",
              "      <td>0.0</td>\n",
              "      <td>False</td>\n",
              "      <td>0.0</td>\n",
              "      <td>False</td>\n",
              "      <td>False</td>\n",
              "      <td>False</td>\n",
              "      <td>False</td>\n",
              "      <td>False</td>\n",
              "      <td>False</td>\n",
              "      <td>False</td>\n",
              "      <td>False</td>\n",
              "      <td>False</td>\n",
              "      <td>False</td>\n",
              "      <td>0.0</td>\n",
              "      <td>False</td>\n",
              "      <td>False</td>\n",
              "      <td>False</td>\n",
              "      <td>False</td>\n",
              "      <td>False</td>\n",
              "    </tr>\n",
              "    <tr>\n",
              "      <th>855</th>\n",
              "      <td>25.0</td>\n",
              "      <td>2.0</td>\n",
              "      <td>17.0</td>\n",
              "      <td>0.0</td>\n",
              "      <td>False</td>\n",
              "      <td>0.0</td>\n",
              "      <td>0.0</td>\n",
              "      <td>True</td>\n",
              "      <td>0.08</td>\n",
              "      <td>False</td>\n",
              "      <td>0.0</td>\n",
              "      <td>False</td>\n",
              "      <td>0.0</td>\n",
              "      <td>False</td>\n",
              "      <td>False</td>\n",
              "      <td>False</td>\n",
              "      <td>False</td>\n",
              "      <td>False</td>\n",
              "      <td>False</td>\n",
              "      <td>False</td>\n",
              "      <td>False</td>\n",
              "      <td>False</td>\n",
              "      <td>False</td>\n",
              "      <td>0.0</td>\n",
              "      <td>False</td>\n",
              "      <td>False</td>\n",
              "      <td>False</td>\n",
              "      <td>False</td>\n",
              "      <td>False</td>\n",
              "    </tr>\n",
              "    <tr>\n",
              "      <th>856</th>\n",
              "      <td>33.0</td>\n",
              "      <td>2.0</td>\n",
              "      <td>24.0</td>\n",
              "      <td>2.0</td>\n",
              "      <td>False</td>\n",
              "      <td>0.0</td>\n",
              "      <td>0.0</td>\n",
              "      <td>True</td>\n",
              "      <td>0.08</td>\n",
              "      <td>False</td>\n",
              "      <td>0.0</td>\n",
              "      <td>False</td>\n",
              "      <td>0.0</td>\n",
              "      <td>False</td>\n",
              "      <td>False</td>\n",
              "      <td>False</td>\n",
              "      <td>False</td>\n",
              "      <td>False</td>\n",
              "      <td>False</td>\n",
              "      <td>False</td>\n",
              "      <td>False</td>\n",
              "      <td>False</td>\n",
              "      <td>False</td>\n",
              "      <td>0.0</td>\n",
              "      <td>False</td>\n",
              "      <td>False</td>\n",
              "      <td>False</td>\n",
              "      <td>False</td>\n",
              "      <td>False</td>\n",
              "    </tr>\n",
              "    <tr>\n",
              "      <th>857</th>\n",
              "      <td>29.0</td>\n",
              "      <td>2.0</td>\n",
              "      <td>20.0</td>\n",
              "      <td>1.0</td>\n",
              "      <td>False</td>\n",
              "      <td>0.0</td>\n",
              "      <td>0.0</td>\n",
              "      <td>True</td>\n",
              "      <td>0.50</td>\n",
              "      <td>False</td>\n",
              "      <td>0.0</td>\n",
              "      <td>False</td>\n",
              "      <td>0.0</td>\n",
              "      <td>False</td>\n",
              "      <td>False</td>\n",
              "      <td>False</td>\n",
              "      <td>False</td>\n",
              "      <td>False</td>\n",
              "      <td>False</td>\n",
              "      <td>False</td>\n",
              "      <td>False</td>\n",
              "      <td>False</td>\n",
              "      <td>False</td>\n",
              "      <td>0.0</td>\n",
              "      <td>False</td>\n",
              "      <td>False</td>\n",
              "      <td>False</td>\n",
              "      <td>False</td>\n",
              "      <td>False</td>\n",
              "    </tr>\n",
              "  </tbody>\n",
              "</table>\n",
              "<p>858 rows × 29 columns</p>\n",
              "</div>"
            ],
            "text/plain": [
              "      Age  Number of sexual partners  ...     Dx  Biopsy\n",
              "0    18.0                        4.0  ...  False   False\n",
              "1    15.0                        1.0  ...  False   False\n",
              "2    34.0                        1.0  ...  False   False\n",
              "3    52.0                        5.0  ...  False   False\n",
              "4    46.0                        3.0  ...  False   False\n",
              "..    ...                        ...  ...    ...     ...\n",
              "853  34.0                        3.0  ...  False   False\n",
              "854  32.0                        2.0  ...  False   False\n",
              "855  25.0                        2.0  ...  False   False\n",
              "856  33.0                        2.0  ...  False   False\n",
              "857  29.0                        2.0  ...  False   False\n",
              "\n",
              "[858 rows x 29 columns]"
            ]
          },
          "metadata": {
            "tags": []
          },
          "execution_count": 6
        }
      ]
    },
    {
      "cell_type": "code",
      "metadata": {
        "colab": {
          "base_uri": "https://localhost:8080/"
        },
        "id": "e0IeqhJKJaIv",
        "outputId": "8a23f87b-4b7b-46c0-d8e1-6d8275b2c75b"
      },
      "source": [
        "data.shape"
      ],
      "execution_count": null,
      "outputs": [
        {
          "output_type": "execute_result",
          "data": {
            "text/plain": [
              "(858, 29)"
            ]
          },
          "metadata": {
            "tags": []
          },
          "execution_count": 7
        }
      ]
    },
    {
      "cell_type": "markdown",
      "metadata": {
        "id": "Bc7d6LKCJxUr"
      },
      "source": [
        "# Data Preprocessing"
      ]
    },
    {
      "cell_type": "markdown",
      "metadata": {
        "id": "Xb2suFrrJzdE"
      },
      "source": [
        "Data Encoding and Data Scaling"
      ]
    },
    {
      "cell_type": "code",
      "metadata": {
        "id": "ZEbUnAvAJbXa"
      },
      "source": [
        "for col in data.columns:\n",
        "  print(col)\n",
        "  print(data[col].unique())"
      ],
      "execution_count": null,
      "outputs": []
    },
    {
      "cell_type": "markdown",
      "metadata": {
        "id": "hl6Dwm-NLMxx"
      },
      "source": [
        "Since no categorical variables have multiple categories, data encoding is not required"
      ]
    },
    {
      "cell_type": "markdown",
      "metadata": {
        "id": "NCzltjo4LYnL"
      },
      "source": [
        "# Distribution of the classes in the target variable"
      ]
    },
    {
      "cell_type": "code",
      "metadata": {
        "colab": {
          "base_uri": "https://localhost:8080/"
        },
        "id": "uF-VcHV0LJ2J",
        "outputId": "f4cdbe08-cd2c-4335-80c8-0581aa104b4a"
      },
      "source": [
        "data['Biopsy'].value_counts()"
      ],
      "execution_count": null,
      "outputs": [
        {
          "output_type": "execute_result",
          "data": {
            "text/plain": [
              "False    803\n",
              "True      55\n",
              "Name: Biopsy, dtype: int64"
            ]
          },
          "metadata": {
            "tags": []
          },
          "execution_count": 9
        }
      ]
    },
    {
      "cell_type": "markdown",
      "metadata": {
        "id": "qEFQo_hwLjVc"
      },
      "source": [
        " Making the target and predictor variables "
      ]
    },
    {
      "cell_type": "code",
      "metadata": {
        "id": "t_jSfh-uLhcO"
      },
      "source": [
        "import seaborn as sns"
      ],
      "execution_count": null,
      "outputs": []
    },
    {
      "cell_type": "code",
      "metadata": {
        "colab": {
          "base_uri": "https://localhost:8080/",
          "height": 279
        },
        "id": "FHQSsFwSLxD6",
        "outputId": "6f8cbf45-5645-47f6-e70f-48933467364f"
      },
      "source": [
        "sns.countplot(data=data,x='Biopsy');"
      ],
      "execution_count": null,
      "outputs": [
        {
          "output_type": "display_data",
          "data": {
            "image/png": "[encoded data removed]",
            "text/plain": [
              "<Figure size 432x288 with 1 Axes>"
            ]
          },
          "metadata": {
            "tags": [],
            "needs_background": "light"
          }
        }
      ]
    },
    {
      "cell_type": "markdown",
      "metadata": {
        "id": "clk1PQ9sL8rD"
      },
      "source": [
        "This is a case of imbalanced classification"
      ]
    },
    {
      "cell_type": "markdown",
      "metadata": {
        "id": "Ha0o_3vnK-4Y"
      },
      "source": [
        "# Making the target and predictor variables"
      ]
    },
    {
      "cell_type": "code",
      "metadata": {
        "id": "u2VbkvygL0W6"
      },
      "source": [
        "x = data.drop('Biopsy',axis=1)\n",
        "y=data['Biopsy']\n"
      ],
      "execution_count": null,
      "outputs": []
    },
    {
      "cell_type": "code",
      "metadata": {
        "colab": {
          "base_uri": "https://localhost:8080/"
        },
        "id": "eem9RLwoLKez",
        "outputId": "415bc256-42fc-456a-e3cc-87870ca83192"
      },
      "source": [
        "print(x.shape)\n",
        "print(y.shape)"
      ],
      "execution_count": null,
      "outputs": [
        {
          "output_type": "stream",
          "text": [
            "(858, 28)\n",
            "(858,)\n"
          ],
          "name": "stdout"
        }
      ]
    },
    {
      "cell_type": "markdown",
      "metadata": {
        "id": "8OAr0GGyLSJ9"
      },
      "source": [
        "# Data scaling\n"
      ]
    },
    {
      "cell_type": "code",
      "metadata": {
        "id": "GZTGR311LNVs"
      },
      "source": [
        "from sklearn.preprocessing import StandardScaler\n",
        "x=StandardScaler().fit_transform(x)"
      ],
      "execution_count": null,
      "outputs": []
    },
    {
      "cell_type": "code",
      "metadata": {
        "colab": {
          "base_uri": "https://localhost:8080/"
        },
        "id": "BC6lekvALqxL",
        "outputId": "60927dc7-8345-472f-8992-a56121c1b1e0"
      },
      "source": [
        "x[0]"
      ],
      "execution_count": null,
      "outputs": [
        {
          "output_type": "execute_result",
          "data": {
            "text/plain": [
              "array([-1.03856336,  0.18899462, -0.71507369, -0.47691956, -0.4090806 ,\n",
              "       -0.3167311 , -0.22155443, -1.47972669, -0.61501755, -0.32725643,\n",
              "       -0.44840262, -0.31845261, -0.39430742, -0.23249528, -0.06843859,\n",
              "       -0.22969705, -0.14638501, -0.03415935, -0.03415935, -0.03415935,\n",
              "       -0.14638501, -0.03415935, -0.04833682, -0.28909302, -0.14638501,\n",
              "       -0.10295973, -0.14638501, -0.16963779])"
            ]
          },
          "metadata": {
            "tags": []
          },
          "execution_count": 15
        }
      ]
    },
    {
      "cell_type": "markdown",
      "metadata": {
        "id": "O-XVzjXtL13j"
      },
      "source": [
        "# Data Splitting"
      ]
    },
    {
      "cell_type": "code",
      "metadata": {
        "id": "EMxnmCmOL0Vi"
      },
      "source": [
        "from sklearn.model_selection import train_test_split\n",
        "\n",
        "x_train,x_test,y_train,y_test=train_test_split(x,y,test_size=0.3,random_state=42)"
      ],
      "execution_count": null,
      "outputs": []
    },
    {
      "cell_type": "code",
      "metadata": {
        "colab": {
          "base_uri": "https://localhost:8080/"
        },
        "id": "vKm7ff8IMbVb",
        "outputId": "159dad7e-0faa-497c-adc8-abe96ccdf84a"
      },
      "source": [
        "y_train.value_counts()"
      ],
      "execution_count": null,
      "outputs": [
        {
          "output_type": "execute_result",
          "data": {
            "text/plain": [
              "False    560\n",
              "True      40\n",
              "Name: Biopsy, dtype: int64"
            ]
          },
          "metadata": {
            "tags": []
          },
          "execution_count": 17
        }
      ]
    },
    {
      "cell_type": "code",
      "metadata": {
        "colab": {
          "base_uri": "https://localhost:8080/"
        },
        "id": "d1CEaFBcMzCl",
        "outputId": "945d3c6f-e847-47c6-c154-718899b90a7f"
      },
      "source": [
        "y_test.value_counts()"
      ],
      "execution_count": null,
      "outputs": [
        {
          "output_type": "execute_result",
          "data": {
            "text/plain": [
              "False    243\n",
              "True      15\n",
              "Name: Biopsy, dtype: int64"
            ]
          },
          "metadata": {
            "tags": []
          },
          "execution_count": 18
        }
      ]
    },
    {
      "cell_type": "markdown",
      "metadata": {
        "id": "OhOidpP5NCkw"
      },
      "source": [
        "# Baseline Model\n",
        "\n",
        "Baseline model does not have relevance in case of an imbalanced classification because accuracy is not a suitable metric in such cases.\n",
        "\n",
        "The usual way of defining a baseline model is to consider a model which predicts the value to be equal to the majority class.\n",
        "\n",
        "Here, in the training dataset, the two classes, majority and minority (+ve and -ve) are present in the ratio 93:7. So, the baseline model in this case has an accuracy of 93% because when it predicts all values to belong to the negative class, it still makes 93% correct predictions owing to the class distrubution"
      ]
    },
    {
      "cell_type": "markdown",
      "metadata": {
        "id": "M49-bCm4PZQk"
      },
      "source": [
        "# Logistic regressing using all the variables"
      ]
    },
    {
      "cell_type": "code",
      "metadata": {
        "id": "DhzbzWmDM2Pr"
      },
      "source": [
        "from sklearn.linear_model import LogisticRegression"
      ],
      "execution_count": null,
      "outputs": []
    },
    {
      "cell_type": "code",
      "metadata": {
        "id": "QGo_cXNXM_AC"
      },
      "source": [
        "from sklearn.metrics import confusion_matrix\n",
        "from sklearn.metrics import precision_recall_fscore_support"
      ],
      "execution_count": null,
      "outputs": []
    },
    {
      "cell_type": "code",
      "metadata": {
        "id": "jVb_Xe3jPrVt"
      },
      "source": [
        "model1 = LogisticRegression()"
      ],
      "execution_count": null,
      "outputs": []
    },
    {
      "cell_type": "code",
      "metadata": {
        "colab": {
          "base_uri": "https://localhost:8080/"
        },
        "id": "GOsyja3YPzfw",
        "outputId": "9731046b-1db8-464a-a57f-0357b88b3c08"
      },
      "source": [
        "model1.fit(x_train,y_train)"
      ],
      "execution_count": null,
      "outputs": [
        {
          "output_type": "execute_result",
          "data": {
            "text/plain": [
              "LogisticRegression(C=1.0, class_weight=None, dual=False, fit_intercept=True,\n",
              "                   intercept_scaling=1, l1_ratio=None, max_iter=100,\n",
              "                   multi_class='auto', n_jobs=None, penalty='l2',\n",
              "                   random_state=None, solver='lbfgs', tol=0.0001, verbose=0,\n",
              "                   warm_start=False)"
            ]
          },
          "metadata": {
            "tags": []
          },
          "execution_count": 22
        }
      ]
    },
    {
      "cell_type": "code",
      "metadata": {
        "id": "iEVcqVwYP5PA"
      },
      "source": [
        "y_pred = model1.predict(x_test)"
      ],
      "execution_count": null,
      "outputs": []
    },
    {
      "cell_type": "code",
      "metadata": {
        "colab": {
          "base_uri": "https://localhost:8080/"
        },
        "id": "F86gGiMUP_ea",
        "outputId": "3de75ddb-77b0-408c-ff78-50fd4e03505d"
      },
      "source": [
        "y_pred"
      ],
      "execution_count": null,
      "outputs": [
        {
          "output_type": "execute_result",
          "data": {
            "text/plain": [
              "array([False, False, False, False, False, False, False, False, False,\n",
              "       False, False, False, False, False, False, False, False, False,\n",
              "       False, False, False, False, False, False, False, False, False,\n",
              "       False, False, False, False, False, False, False, False, False,\n",
              "       False, False, False, False, False, False, False, False, False,\n",
              "       False, False, False, False, False, False, False, False, False,\n",
              "       False, False, False, False, False,  True, False, False, False,\n",
              "       False, False, False, False, False, False, False, False, False,\n",
              "       False, False, False, False, False, False, False, False, False,\n",
              "       False, False, False, False, False, False, False, False, False,\n",
              "       False, False, False, False, False, False, False, False, False,\n",
              "       False, False, False, False, False, False, False, False, False,\n",
              "       False, False, False, False, False, False, False, False, False,\n",
              "       False, False, False, False, False, False, False, False, False,\n",
              "       False, False, False, False, False, False, False, False, False,\n",
              "       False, False, False, False, False, False, False, False,  True,\n",
              "       False, False, False, False, False, False, False, False, False,\n",
              "       False, False, False, False, False, False, False, False, False,\n",
              "       False, False, False, False, False, False, False, False, False,\n",
              "       False, False, False, False, False, False, False, False, False,\n",
              "       False, False, False, False, False, False, False, False, False,\n",
              "       False, False, False, False, False, False, False, False, False,\n",
              "       False, False, False, False, False, False, False, False, False,\n",
              "       False, False, False, False, False, False, False, False, False,\n",
              "       False, False, False, False, False, False, False, False, False,\n",
              "       False, False, False, False, False, False, False, False, False,\n",
              "       False, False, False, False, False, False, False, False, False,\n",
              "       False, False, False, False, False, False, False, False, False,\n",
              "       False, False, False, False, False, False])"
            ]
          },
          "metadata": {
            "tags": []
          },
          "execution_count": 24
        }
      ]
    },
    {
      "cell_type": "code",
      "metadata": {
        "colab": {
          "base_uri": "https://localhost:8080/"
        },
        "id": "N7vlRtcqQAiw",
        "outputId": "6b097ef3-9d8a-4289-a0ab-de1eb87b9bbb"
      },
      "source": [
        "model1.predict_proba(x_test)"
      ],
      "execution_count": null,
      "outputs": [
        {
          "output_type": "execute_result",
          "data": {
            "text/plain": [
              "array([[9.46989260e-01, 5.30107396e-02],\n",
              "       [9.44387917e-01, 5.56120832e-02],\n",
              "       [9.25662650e-01, 7.43373495e-02],\n",
              "       [9.52709923e-01, 4.72900775e-02],\n",
              "       [9.70752730e-01, 2.92472697e-02],\n",
              "       [9.00056615e-01, 9.99433853e-02],\n",
              "       [9.48024483e-01, 5.19755170e-02],\n",
              "       [9.54814652e-01, 4.51853476e-02],\n",
              "       [9.44198200e-01, 5.58017995e-02],\n",
              "       [9.99228383e-01, 7.71616638e-04],\n",
              "       [9.54450853e-01, 4.55491474e-02],\n",
              "       [9.45724619e-01, 5.42753810e-02],\n",
              "       [9.34336461e-01, 6.56635385e-02],\n",
              "       [9.01757610e-01, 9.82423899e-02],\n",
              "       [9.25400363e-01, 7.45996375e-02],\n",
              "       [9.35908267e-01, 6.40917332e-02],\n",
              "       [9.46388616e-01, 5.36113845e-02],\n",
              "       [9.44153096e-01, 5.58469040e-02],\n",
              "       [9.60278567e-01, 3.97214327e-02],\n",
              "       [9.52074371e-01, 4.79256292e-02],\n",
              "       [9.48589332e-01, 5.14106677e-02],\n",
              "       [9.87055510e-01, 1.29444900e-02],\n",
              "       [9.85492091e-01, 1.45079093e-02],\n",
              "       [9.42062943e-01, 5.79370568e-02],\n",
              "       [9.47864886e-01, 5.21351139e-02],\n",
              "       [9.49741873e-01, 5.02581265e-02],\n",
              "       [9.69715068e-01, 3.02849323e-02],\n",
              "       [9.47156725e-01, 5.28432746e-02],\n",
              "       [9.42734993e-01, 5.72650070e-02],\n",
              "       [8.89433391e-01, 1.10566609e-01],\n",
              "       [9.45361066e-01, 5.46389339e-02],\n",
              "       [9.35041087e-01, 6.49589127e-02],\n",
              "       [9.71838483e-01, 2.81615174e-02],\n",
              "       [9.47508257e-01, 5.24917434e-02],\n",
              "       [9.95417844e-01, 4.58215596e-03],\n",
              "       [9.84175327e-01, 1.58246726e-02],\n",
              "       [9.71468542e-01, 2.85314578e-02],\n",
              "       [9.81489865e-01, 1.85101353e-02],\n",
              "       [9.21550575e-01, 7.84494245e-02],\n",
              "       [8.98164214e-01, 1.01835786e-01],\n",
              "       [9.44181785e-01, 5.58182147e-02],\n",
              "       [9.82222969e-01, 1.77770308e-02],\n",
              "       [9.45718967e-01, 5.42810332e-02],\n",
              "       [9.88755084e-01, 1.12449160e-02],\n",
              "       [9.52598190e-01, 4.74018099e-02],\n",
              "       [9.83423251e-01, 1.65767490e-02],\n",
              "       [9.55682847e-01, 4.43171528e-02],\n",
              "       [9.65870870e-01, 3.41291297e-02],\n",
              "       [9.46781310e-01, 5.32186896e-02],\n",
              "       [8.53351042e-01, 1.46648958e-01],\n",
              "       [9.26546969e-01, 7.34530313e-02],\n",
              "       [9.52004671e-01, 4.79953287e-02],\n",
              "       [9.87060347e-01, 1.29396528e-02],\n",
              "       [9.36428464e-01, 6.35715356e-02],\n",
              "       [9.55011500e-01, 4.49885003e-02],\n",
              "       [9.46689736e-01, 5.33102637e-02],\n",
              "       [9.27679103e-01, 7.23208967e-02],\n",
              "       [9.72074044e-01, 2.79259558e-02],\n",
              "       [9.41236672e-01, 5.87633285e-02],\n",
              "       [4.84798015e-01, 5.15201985e-01],\n",
              "       [9.56499440e-01, 4.35005600e-02],\n",
              "       [9.48175713e-01, 5.18242872e-02],\n",
              "       [8.35562590e-01, 1.64437410e-01],\n",
              "       [9.56842755e-01, 4.31572452e-02],\n",
              "       [9.41528336e-01, 5.84716641e-02],\n",
              "       [9.59697938e-01, 4.03020621e-02],\n",
              "       [9.89413593e-01, 1.05864070e-02],\n",
              "       [9.50853086e-01, 4.91469140e-02],\n",
              "       [9.50007364e-01, 4.99926364e-02],\n",
              "       [9.66403097e-01, 3.35969026e-02],\n",
              "       [7.99366330e-01, 2.00633670e-01],\n",
              "       [9.67366974e-01, 3.26330264e-02],\n",
              "       [9.55475673e-01, 4.45243271e-02],\n",
              "       [9.40142944e-01, 5.98570564e-02],\n",
              "       [9.58941379e-01, 4.10586207e-02],\n",
              "       [9.00822335e-01, 9.91776651e-02],\n",
              "       [9.59617822e-01, 4.03821781e-02],\n",
              "       [9.94624807e-01, 5.37519322e-03],\n",
              "       [5.22161396e-01, 4.77838604e-01],\n",
              "       [7.12128691e-01, 2.87871309e-01],\n",
              "       [9.40445792e-01, 5.95542079e-02],\n",
              "       [9.91587100e-01, 8.41289974e-03],\n",
              "       [9.96329968e-01, 3.67003207e-03],\n",
              "       [9.57958134e-01, 4.20418656e-02],\n",
              "       [8.66427048e-01, 1.33572952e-01],\n",
              "       [9.94998441e-01, 5.00155898e-03],\n",
              "       [9.97348032e-01, 2.65196830e-03],\n",
              "       [8.19560173e-01, 1.80439827e-01],\n",
              "       [9.41289658e-01, 5.87103422e-02],\n",
              "       [9.43735810e-01, 5.62641901e-02],\n",
              "       [9.47485733e-01, 5.25142670e-02],\n",
              "       [9.60249008e-01, 3.97509920e-02],\n",
              "       [9.93497268e-01, 6.50273223e-03],\n",
              "       [8.81516372e-01, 1.18483628e-01],\n",
              "       [9.30589143e-01, 6.94108572e-02],\n",
              "       [9.38431825e-01, 6.15681746e-02],\n",
              "       [9.72635638e-01, 2.73643619e-02],\n",
              "       [9.11913439e-01, 8.80865607e-02],\n",
              "       [9.41514287e-01, 5.84857130e-02],\n",
              "       [9.48358182e-01, 5.16418180e-02],\n",
              "       [9.62709835e-01, 3.72901654e-02],\n",
              "       [9.39247688e-01, 6.07523124e-02],\n",
              "       [9.44295834e-01, 5.57041656e-02],\n",
              "       [6.67075122e-01, 3.32924878e-01],\n",
              "       [9.38335236e-01, 6.16647638e-02],\n",
              "       [9.84995516e-01, 1.50044837e-02],\n",
              "       [9.69645231e-01, 3.03547690e-02],\n",
              "       [9.58034891e-01, 4.19651087e-02],\n",
              "       [9.74426925e-01, 2.55730750e-02],\n",
              "       [9.52863270e-01, 4.71367298e-02],\n",
              "       [9.43338927e-01, 5.66610731e-02],\n",
              "       [9.48917665e-01, 5.10823348e-02],\n",
              "       [9.46030906e-01, 5.39690944e-02],\n",
              "       [9.88516993e-01, 1.14830067e-02],\n",
              "       [9.94828378e-01, 5.17162157e-03],\n",
              "       [9.41860043e-01, 5.81399567e-02],\n",
              "       [9.52109155e-01, 4.78908447e-02],\n",
              "       [9.41743626e-01, 5.82563741e-02],\n",
              "       [9.73562190e-01, 2.64378096e-02],\n",
              "       [9.46516830e-01, 5.34831704e-02],\n",
              "       [9.57110164e-01, 4.28898358e-02],\n",
              "       [9.96066355e-01, 3.93364472e-03],\n",
              "       [9.62059466e-01, 3.79405341e-02],\n",
              "       [9.54701923e-01, 4.52980772e-02],\n",
              "       [9.88187569e-01, 1.18124310e-02],\n",
              "       [9.50781284e-01, 4.92187164e-02],\n",
              "       [9.72767170e-01, 2.72328296e-02],\n",
              "       [8.83595254e-01, 1.16404746e-01],\n",
              "       [9.81018583e-01, 1.89814173e-02],\n",
              "       [9.88857925e-01, 1.11420755e-02],\n",
              "       [9.29447764e-01, 7.05522357e-02],\n",
              "       [9.66897885e-01, 3.31021146e-02],\n",
              "       [8.24720805e-01, 1.75279195e-01],\n",
              "       [9.49711212e-01, 5.02887878e-02],\n",
              "       [9.47675483e-01, 5.23245170e-02],\n",
              "       [9.43931428e-01, 5.60685720e-02],\n",
              "       [6.98230004e-01, 3.01769996e-01],\n",
              "       [9.56156659e-01, 4.38433412e-02],\n",
              "       [9.51911747e-01, 4.80882532e-02],\n",
              "       [9.45786710e-01, 5.42132903e-02],\n",
              "       [9.45130116e-01, 5.48698844e-02],\n",
              "       [9.96500024e-01, 3.49997643e-03],\n",
              "       [9.39917057e-01, 6.00829435e-02],\n",
              "       [2.58544643e-01, 7.41455357e-01],\n",
              "       [9.37538579e-01, 6.24614211e-02],\n",
              "       [9.30223804e-01, 6.97761955e-02],\n",
              "       [9.72018559e-01, 2.79814407e-02],\n",
              "       [9.86460681e-01, 1.35393187e-02],\n",
              "       [9.44879132e-01, 5.51208682e-02],\n",
              "       [9.50993047e-01, 4.90069526e-02],\n",
              "       [9.57928995e-01, 4.20710049e-02],\n",
              "       [9.88059884e-01, 1.19401155e-02],\n",
              "       [8.19933485e-01, 1.80066515e-01],\n",
              "       [9.43784977e-01, 5.62150234e-02],\n",
              "       [9.03050443e-01, 9.69495568e-02],\n",
              "       [9.64120041e-01, 3.58799591e-02],\n",
              "       [9.52523840e-01, 4.74761600e-02],\n",
              "       [8.75108758e-01, 1.24891242e-01],\n",
              "       [9.56848549e-01, 4.31514506e-02],\n",
              "       [9.80201555e-01, 1.97984453e-02],\n",
              "       [9.71199282e-01, 2.88007177e-02],\n",
              "       [9.47791600e-01, 5.22083995e-02],\n",
              "       [9.78577616e-01, 2.14223845e-02],\n",
              "       [9.63014897e-01, 3.69851030e-02],\n",
              "       [9.46520875e-01, 5.34791250e-02],\n",
              "       [8.96663261e-01, 1.03336739e-01],\n",
              "       [9.85245306e-01, 1.47546944e-02],\n",
              "       [6.14211378e-01, 3.85788622e-01],\n",
              "       [9.49972919e-01, 5.00270811e-02],\n",
              "       [9.62161994e-01, 3.78380057e-02],\n",
              "       [9.48580661e-01, 5.14193394e-02],\n",
              "       [9.90235976e-01, 9.76402371e-03],\n",
              "       [9.59237086e-01, 4.07629136e-02],\n",
              "       [9.48515677e-01, 5.14843234e-02],\n",
              "       [9.62109251e-01, 3.78907494e-02],\n",
              "       [9.86542350e-01, 1.34576497e-02],\n",
              "       [8.14716679e-01, 1.85283321e-01],\n",
              "       [9.84485160e-01, 1.55148397e-02],\n",
              "       [9.61914216e-01, 3.80857838e-02],\n",
              "       [8.56991573e-01, 1.43008427e-01],\n",
              "       [9.57887400e-01, 4.21125995e-02],\n",
              "       [9.34746051e-01, 6.52539491e-02],\n",
              "       [9.38655889e-01, 6.13441112e-02],\n",
              "       [9.50673073e-01, 4.93269273e-02],\n",
              "       [9.56748782e-01, 4.32512184e-02],\n",
              "       [9.46463881e-01, 5.35361188e-02],\n",
              "       [9.58872721e-01, 4.11272793e-02],\n",
              "       [9.51560129e-01, 4.84398711e-02],\n",
              "       [9.65856935e-01, 3.41430648e-02],\n",
              "       [9.52431916e-01, 4.75680842e-02],\n",
              "       [9.86738267e-01, 1.32617326e-02],\n",
              "       [9.30968030e-01, 6.90319700e-02],\n",
              "       [9.25041288e-01, 7.49587121e-02],\n",
              "       [9.57508662e-01, 4.24913382e-02],\n",
              "       [9.78630840e-01, 2.13691601e-02],\n",
              "       [9.50347507e-01, 4.96524933e-02],\n",
              "       [9.43025056e-01, 5.69749439e-02],\n",
              "       [9.39088945e-01, 6.09110551e-02],\n",
              "       [9.40932443e-01, 5.90675569e-02],\n",
              "       [9.48770424e-01, 5.12295761e-02],\n",
              "       [9.41814849e-01, 5.81851511e-02],\n",
              "       [9.40279613e-01, 5.97203870e-02],\n",
              "       [9.51896193e-01, 4.81038072e-02],\n",
              "       [9.18634405e-01, 8.13655955e-02],\n",
              "       [9.71480511e-01, 2.85194889e-02],\n",
              "       [9.66872022e-01, 3.31279778e-02],\n",
              "       [9.29701454e-01, 7.02985460e-02],\n",
              "       [9.56974968e-01, 4.30250321e-02],\n",
              "       [8.65884076e-01, 1.34115924e-01],\n",
              "       [9.87897731e-01, 1.21022693e-02],\n",
              "       [9.74130812e-01, 2.58691880e-02],\n",
              "       [9.74440199e-01, 2.55598010e-02],\n",
              "       [9.34102547e-01, 6.58974535e-02],\n",
              "       [9.87555240e-01, 1.24447603e-02],\n",
              "       [9.49509782e-01, 5.04902175e-02],\n",
              "       [9.53075728e-01, 4.69242723e-02],\n",
              "       [9.42484151e-01, 5.75158488e-02],\n",
              "       [9.95872879e-01, 4.12712094e-03],\n",
              "       [9.38388177e-01, 6.16118231e-02],\n",
              "       [9.55959075e-01, 4.40409254e-02],\n",
              "       [9.53062684e-01, 4.69373157e-02],\n",
              "       [9.47559742e-01, 5.24402576e-02],\n",
              "       [9.56842755e-01, 4.31572452e-02],\n",
              "       [9.39066933e-01, 6.09330668e-02],\n",
              "       [9.43025056e-01, 5.69749439e-02],\n",
              "       [8.89837808e-01, 1.10162192e-01],\n",
              "       [9.49772708e-01, 5.02272922e-02],\n",
              "       [9.60858498e-01, 3.91415016e-02],\n",
              "       [9.70395720e-01, 2.96042803e-02],\n",
              "       [9.44080530e-01, 5.59194700e-02],\n",
              "       [9.63132758e-01, 3.68672416e-02],\n",
              "       [9.71475699e-01, 2.85243014e-02],\n",
              "       [9.95283222e-01, 4.71677764e-03],\n",
              "       [9.66354818e-01, 3.36451816e-02],\n",
              "       [9.83872624e-01, 1.61273759e-02],\n",
              "       [9.45696645e-01, 5.43033551e-02],\n",
              "       [9.90311561e-01, 9.68843865e-03],\n",
              "       [9.80641980e-01, 1.93580196e-02],\n",
              "       [9.36785127e-01, 6.32148730e-02],\n",
              "       [9.41309132e-01, 5.86908676e-02],\n",
              "       [9.52866811e-01, 4.71331886e-02],\n",
              "       [9.48024483e-01, 5.19755170e-02],\n",
              "       [9.63686515e-01, 3.63134851e-02],\n",
              "       [9.35640780e-01, 6.43592203e-02],\n",
              "       [9.48225006e-01, 5.17749938e-02],\n",
              "       [9.64500432e-01, 3.54995682e-02],\n",
              "       [7.56670322e-01, 2.43329678e-01],\n",
              "       [9.78201589e-01, 2.17984109e-02],\n",
              "       [5.87982643e-01, 4.12017357e-01],\n",
              "       [9.77653970e-01, 2.23460298e-02],\n",
              "       [9.46604992e-01, 5.33950076e-02],\n",
              "       [8.99041774e-01, 1.00958226e-01],\n",
              "       [9.15970565e-01, 8.40294350e-02],\n",
              "       [9.37859133e-01, 6.21408669e-02],\n",
              "       [9.88389804e-01, 1.16101958e-02],\n",
              "       [9.66679218e-01, 3.33207818e-02],\n",
              "       [9.51674469e-01, 4.83255306e-02],\n",
              "       [9.94575445e-01, 5.42455543e-03]])"
            ]
          },
          "metadata": {
            "tags": []
          },
          "execution_count": 25
        }
      ]
    },
    {
      "cell_type": "code",
      "metadata": {
        "colab": {
          "base_uri": "https://localhost:8080/"
        },
        "id": "o0tV8ab4QXWO",
        "outputId": "a83d07df-0c79-47d3-816f-0f59ae9a2c54"
      },
      "source": [
        "confusion_matrix(y_test,y_pred)"
      ],
      "execution_count": null,
      "outputs": [
        {
          "output_type": "execute_result",
          "data": {
            "text/plain": [
              "array([[242,   1],\n",
              "       [ 14,   1]])"
            ]
          },
          "metadata": {
            "tags": []
          },
          "execution_count": 26
        }
      ]
    },
    {
      "cell_type": "code",
      "metadata": {
        "colab": {
          "base_uri": "https://localhost:8080/"
        },
        "id": "v3rySrHFQcvh",
        "outputId": "3f0b546c-0962-4ef1-ba14-71b22e6918b7"
      },
      "source": [
        "precision_recall_fscore_support(y_test,y_pred)"
      ],
      "execution_count": null,
      "outputs": [
        {
          "output_type": "execute_result",
          "data": {
            "text/plain": [
              "(array([0.9453125, 0.5      ]),\n",
              " array([0.99588477, 0.06666667]),\n",
              " array([0.96993988, 0.11764706]),\n",
              " array([243,  15]))"
            ]
          },
          "metadata": {
            "tags": []
          },
          "execution_count": 27
        }
      ]
    },
    {
      "cell_type": "markdown",
      "metadata": {
        "id": "kAdbC9PkQ4Ck"
      },
      "source": [
        "# Finetuning the model"
      ]
    },
    {
      "cell_type": "code",
      "metadata": {
        "id": "J6cc9G40Qk61"
      },
      "source": [
        "model2 = LogisticRegression(class_weight = {0:7, 1:93})"
      ],
      "execution_count": null,
      "outputs": []
    },
    {
      "cell_type": "code",
      "metadata": {
        "colab": {
          "base_uri": "https://localhost:8080/"
        },
        "id": "Cv1hdMPpEuV_",
        "outputId": "4fb69777-a338-4b05-b226-a12c874dfd7d"
      },
      "source": [
        "model2.fit(x_train,y_train)"
      ],
      "execution_count": null,
      "outputs": [
        {
          "output_type": "execute_result",
          "data": {
            "text/plain": [
              "LogisticRegression(C=1.0, class_weight={0: 7, 1: 93}, dual=False,\n",
              "                   fit_intercept=True, intercept_scaling=1, l1_ratio=None,\n",
              "                   max_iter=100, multi_class='auto', n_jobs=None, penalty='l2',\n",
              "                   random_state=None, solver='lbfgs', tol=0.0001, verbose=0,\n",
              "                   warm_start=False)"
            ]
          },
          "metadata": {
            "tags": []
          },
          "execution_count": 29
        }
      ]
    },
    {
      "cell_type": "code",
      "metadata": {
        "id": "Ii4PemRUEy7v"
      },
      "source": [
        "y_pred =model2.predict(x_test)"
      ],
      "execution_count": null,
      "outputs": []
    },
    {
      "cell_type": "code",
      "metadata": {
        "colab": {
          "base_uri": "https://localhost:8080/"
        },
        "id": "r6DLOS98E1tq",
        "outputId": "85b86772-980f-4b31-99f5-3c1dfeb13b78"
      },
      "source": [
        "y_pred"
      ],
      "execution_count": null,
      "outputs": [
        {
          "output_type": "execute_result",
          "data": {
            "text/plain": [
              "array([False, False,  True, False, False,  True, False, False, False,\n",
              "       False, False, False,  True,  True,  True, False, False, False,\n",
              "       False, False, False, False, False, False, False, False, False,\n",
              "       False, False,  True, False,  True, False, False, False, False,\n",
              "       False,  True, False,  True, False, False, False, False, False,\n",
              "       False, False, False, False,  True,  True, False, False,  True,\n",
              "       False, False,  True, False, False,  True, False, False,  True,\n",
              "       False, False, False, False, False, False, False,  True, False,\n",
              "       False, False, False,  True, False, False,  True,  True, False,\n",
              "       False, False, False,  True, False, False,  True, False, False,\n",
              "       False, False, False,  True,  True,  True, False,  True, False,\n",
              "       False, False, False, False,  True,  True, False, False, False,\n",
              "       False, False, False, False, False, False, False, False, False,\n",
              "       False, False, False, False, False, False, False, False, False,\n",
              "       False,  True, False, False,  True, False,  True, False, False,\n",
              "       False,  True, False, False, False, False, False,  True,  True,\n",
              "        True,  True, False, False, False, False, False, False,  True,\n",
              "       False, False, False, False,  True, False, False, False, False,\n",
              "       False, False, False,  True, False,  True, False, False, False,\n",
              "       False, False, False, False, False,  True, False, False,  True,\n",
              "       False, False, False, False, False, False, False, False, False,\n",
              "       False, False, False, False, False, False, False, False,  True,\n",
              "        True, False, False, False, False,  True, False, False,  True,\n",
              "       False,  True, False, False, False, False, False, False, False,\n",
              "       False, False, False, False, False, False, False, False, False,\n",
              "        True, False, False, False, False, False, False, False, False,\n",
              "       False, False, False, False, False, False, False, False, False,\n",
              "       False, False, False,  True, False,  True, False, False,  True,\n",
              "        True, False, False, False, False, False])"
            ]
          },
          "metadata": {
            "tags": []
          },
          "execution_count": 32
        }
      ]
    },
    {
      "cell_type": "code",
      "metadata": {
        "id": "gy8id_FUFM1X"
      },
      "source": [
        "model2.predict_proba(x_test)"
      ],
      "execution_count": null,
      "outputs": []
    },
    {
      "cell_type": "code",
      "metadata": {
        "colab": {
          "base_uri": "https://localhost:8080/"
        },
        "id": "HMjGht_pFVEt",
        "outputId": "3c9f3634-5181-4aa4-b7d6-80151b5ac1b5"
      },
      "source": [
        "confusion_matrix(y_test,y_pred)"
      ],
      "execution_count": null,
      "outputs": [
        {
          "output_type": "execute_result",
          "data": {
            "text/plain": [
              "array([[199,  44],\n",
              "       [  8,   7]])"
            ]
          },
          "metadata": {
            "tags": []
          },
          "execution_count": 34
        }
      ]
    },
    {
      "cell_type": "code",
      "metadata": {
        "colab": {
          "base_uri": "https://localhost:8080/"
        },
        "id": "_lxJT2G0FZhv",
        "outputId": "859829e5-0b99-4002-830a-2d6800678f02"
      },
      "source": [
        "precision_recall_fscore_support(y_test,y_pred)"
      ],
      "execution_count": null,
      "outputs": [
        {
          "output_type": "execute_result",
          "data": {
            "text/plain": [
              "(array([0.96135266, 0.1372549 ]),\n",
              " array([0.81893004, 0.46666667]),\n",
              " array([0.88444444, 0.21212121]),\n",
              " array([243,  15]))"
            ]
          },
          "metadata": {
            "tags": []
          },
          "execution_count": 35
        }
      ]
    },
    {
      "cell_type": "code",
      "metadata": {
        "id": "24IzF7Zt36-f"
      },
      "source": [
        ""
      ],
      "execution_count": null,
      "outputs": []
    }
  ]
}